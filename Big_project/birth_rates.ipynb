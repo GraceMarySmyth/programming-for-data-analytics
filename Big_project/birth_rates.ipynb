{
 "cells": [
  {
   "cell_type": "markdown",
   "metadata": {},
   "source": [
    "### Birth Rates 2022-2023"
   ]
  },
  {
   "cell_type": "markdown",
   "metadata": {},
   "source": [
    "My background is General Nursing, Childrens Nursing, Midwifery and lactation Consultancy. Because of this I choose for this assignment to look at and analyse the birth rates in Ireland for 2022 and 2023. At the time of doing this assignment the figures for 2024 were not available."
   ]
  },
  {
   "cell_type": "markdown",
   "metadata": {},
   "source": [
    "Importing libraries"
   ]
  },
  {
   "cell_type": "code",
   "execution_count": 50,
   "metadata": {},
   "outputs": [],
   "source": [
    "import os\n",
    "import requests\n",
    "import pandas as pd     \n",
    "import numpy as np\n",
    "import matplotlib.pyplot as plt\n",
    "import seaborn as sns\n",
    "import datetime"
   ]
  },
  {
   "cell_type": "markdown",
   "metadata": {},
   "source": [
    "import the data"
   ]
  },
  {
   "cell_type": "code",
   "execution_count": 55,
   "metadata": {},
   "outputs": [],
   "source": [
    "file_path = \"birth records 2022-23.csv\"\n",
    "\n",
    "df = pd.read_csv(file_path)\n"
   ]
  },
  {
   "cell_type": "markdown",
   "metadata": {},
   "source": [
    "Checking the data"
   ]
  },
  {
   "cell_type": "code",
   "execution_count": 56,
   "metadata": {},
   "outputs": [
    {
     "name": "stdout",
     "output_type": "stream",
     "text": [
      "   Year   County of Residence  Births Registered  First Births Registered  \\\n",
      "0  2022               Ireland              57495                  22939.0   \n",
      "1  2022     Cork City Council               1164                      NaN   \n",
      "2  2022  Clare County Council               1279                      NaN   \n",
      "3  2022  Cavan County Council               1039                      NaN   \n",
      "4  2022   Cork County Council               4906                      NaN   \n",
      "\n",
      "   Births within Marriage  Births outside Marriage  \\\n",
      "0                   32757                    24738   \n",
      "1                     592                      572   \n",
      "2                     734                      545   \n",
      "3                     600                      439   \n",
      "4                    3036                     1870   \n",
      "\n",
      "   Average Age of Mother - First Births only  \\\n",
      "0                                       31.5   \n",
      "1                                       31.3   \n",
      "2                                       32.2   \n",
      "3                                       30.9   \n",
      "4                                       32.3   \n",
      "\n",
      "   Average Age of Mothers First Births - outside marriage  \\\n",
      "0                                               29.8        \n",
      "1                                               29.6        \n",
      "2                                               30.9        \n",
      "3                                               29.3        \n",
      "4                                               30.7        \n",
      "\n",
      "   Average Age of Mother - outside Marriage  Average Age of Mothers  \n",
      "0                                      31.1                    33.2  \n",
      "1                                      30.5                    32.5  \n",
      "2                                      31.5                    33.7  \n",
      "3                                      31.1                    33.2  \n",
      "4                                      31.9                    34.0  \n"
     ]
    }
   ],
   "source": [
    "print(df.head())"
   ]
  },
  {
   "cell_type": "code",
   "execution_count": 57,
   "metadata": {},
   "outputs": [
    {
     "name": "stdout",
     "output_type": "stream",
     "text": [
      "    Year              County of Residence  Births Registered  \\\n",
      "59  2023         Tipperary County Council               1736   \n",
      "60  2023  Waterford City & County Council               1290   \n",
      "61  2023         Westmeath County Council               1089   \n",
      "62  2023           Wicklow County Council               1588   \n",
      "63  2023           Wexford County Council               1772   \n",
      "\n",
      "    First Births Registered  Births within Marriage  Births outside Marriage  \\\n",
      "59                      NaN                     930                      806   \n",
      "60                      NaN                     719                      571   \n",
      "61                      NaN                     616                      473   \n",
      "62                      NaN                     920                      668   \n",
      "63                      NaN                     891                      881   \n",
      "\n",
      "    Average Age of Mother - First Births only  \\\n",
      "59                                       30.6   \n",
      "60                                       30.9   \n",
      "61                                       30.3   \n",
      "62                                       32.1   \n",
      "63                                       29.9   \n",
      "\n",
      "    Average Age of Mothers First Births - outside marriage  \\\n",
      "59                                               28.7        \n",
      "60                                               29.5        \n",
      "61                                               28.1        \n",
      "62                                               30.1        \n",
      "63                                               28.2        \n",
      "\n",
      "    Average Age of Mother - outside Marriage  Average Age of Mothers  \n",
      "59                                      30.4                    32.6  \n",
      "60                                      31.0                    32.9  \n",
      "61                                      29.9                    32.5  \n",
      "62                                      31.5                    33.6  \n",
      "63                                      29.9                    32.1  \n"
     ]
    }
   ],
   "source": [
    "print(df.tail())"
   ]
  },
  {
   "cell_type": "code",
   "execution_count": 58,
   "metadata": {},
   "outputs": [],
   "source": [
    "df.dropna(inplace=True)  # Drop any rows with missing data "
   ]
  },
  {
   "cell_type": "markdown",
   "metadata": {},
   "source": [
    "Summary informantion"
   ]
  },
  {
   "cell_type": "code",
   "execution_count": 59,
   "metadata": {},
   "outputs": [
    {
     "name": "stdout",
     "output_type": "stream",
     "text": [
      "<class 'pandas.core.frame.DataFrame'>\n",
      "Index: 2 entries, 0 to 32\n",
      "Data columns (total 10 columns):\n",
      " #   Column                                                  Non-Null Count  Dtype  \n",
      "---  ------                                                  --------------  -----  \n",
      " 0   Year                                                    2 non-null      int64  \n",
      " 1   County of Residence                                     2 non-null      object \n",
      " 2   Births Registered                                       2 non-null      int64  \n",
      " 3   First Births Registered                                 2 non-null      float64\n",
      " 4   Births within Marriage                                  2 non-null      int64  \n",
      " 5   Births outside Marriage                                 2 non-null      int64  \n",
      " 6   Average Age of Mother - First Births only               2 non-null      float64\n",
      " 7   Average Age of Mothers First Births - outside marriage  2 non-null      float64\n",
      " 8   Average Age of Mother - outside Marriage                2 non-null      float64\n",
      " 9   Average Age of Mothers                                  2 non-null      float64\n",
      "dtypes: float64(5), int64(4), object(1)\n",
      "memory usage: 176.0+ bytes\n"
     ]
    }
   ],
   "source": [
    "df.info()"
   ]
  },
  {
   "cell_type": "markdown",
   "metadata": {},
   "source": [
    "Print the column names. This is useful when extracting the data to know what each column name is"
   ]
  },
  {
   "cell_type": "code",
   "execution_count": 60,
   "metadata": {},
   "outputs": [
    {
     "name": "stdout",
     "output_type": "stream",
     "text": [
      "Index(['Year', 'County of Residence', 'Births Registered',\n",
      "       'First Births Registered', 'Births within Marriage',\n",
      "       'Births outside Marriage', 'Average Age of Mother - First Births only',\n",
      "       'Average Age of Mothers First Births - outside marriage',\n",
      "       'Average Age of Mother - outside Marriage', 'Average Age of Mothers'],\n",
      "      dtype='object')\n"
     ]
    }
   ],
   "source": [
    "print(df.columns)"
   ]
  },
  {
   "cell_type": "code",
   "execution_count": 61,
   "metadata": {},
   "outputs": [
    {
     "name": "stdout",
     "output_type": "stream",
     "text": [
      "              Year  Births Registered  First Births Registered  \\\n",
      "count     2.000000           2.000000                 2.000000   \n",
      "mean   2022.500000       56058.500000             22699.000000   \n",
      "std       0.707107        2031.517782               339.411255   \n",
      "min    2022.000000       54622.000000             22459.000000   \n",
      "25%    2022.250000       55340.250000             22579.000000   \n",
      "50%    2022.500000       56058.500000             22699.000000   \n",
      "75%    2022.750000       56776.750000             22819.000000   \n",
      "max    2023.000000       57495.000000             22939.000000   \n",
      "\n",
      "       Births within Marriage  Births outside Marriage  \\\n",
      "count                2.000000                 2.000000   \n",
      "mean             32535.500000             23523.000000   \n",
      "std                313.248304              1718.269478   \n",
      "min              32314.000000             22308.000000   \n",
      "25%              32424.750000             22915.500000   \n",
      "50%              32535.500000             23523.000000   \n",
      "75%              32646.250000             24130.500000   \n",
      "max              32757.000000             24738.000000   \n",
      "\n",
      "       Average Age of Mother - First Births only  \\\n",
      "count                                   2.000000   \n",
      "mean                                   31.550000   \n",
      "std                                     0.070711   \n",
      "min                                    31.500000   \n",
      "25%                                    31.525000   \n",
      "50%                                    31.550000   \n",
      "75%                                    31.575000   \n",
      "max                                    31.600000   \n",
      "\n",
      "       Average Age of Mothers First Births - outside marriage  \\\n",
      "count                                           2.000000        \n",
      "mean                                           29.850000        \n",
      "std                                             0.070711        \n",
      "min                                            29.800000        \n",
      "25%                                            29.825000        \n",
      "50%                                            29.850000        \n",
      "75%                                            29.875000        \n",
      "max                                            29.900000        \n",
      "\n",
      "       Average Age of Mother - outside Marriage  Average Age of Mothers  \n",
      "count                                  2.000000                     2.0  \n",
      "mean                                  31.150000                    33.2  \n",
      "std                                    0.070711                     0.0  \n",
      "min                                   31.100000                    33.2  \n",
      "25%                                   31.125000                    33.2  \n",
      "50%                                   31.150000                    33.2  \n",
      "75%                                   31.175000                    33.2  \n",
      "max                                   31.200000                    33.2  \n"
     ]
    }
   ],
   "source": [
    "print(df.describe())"
   ]
  },
  {
   "cell_type": "code",
   "execution_count": 62,
   "metadata": {},
   "outputs": [
    {
     "data": {
      "text/plain": [
       "Year                                                        int64\n",
       "County of Residence                                        object\n",
       "Births Registered                                           int64\n",
       "First Births Registered                                   float64\n",
       "Births within Marriage                                      int64\n",
       "Births outside Marriage                                     int64\n",
       "Average Age of Mother - First Births only                 float64\n",
       "Average Age of Mothers First Births - outside marriage    float64\n",
       "Average Age of Mother - outside Marriage                  float64\n",
       "Average Age of Mothers                                    float64\n",
       "dtype: object"
      ]
     },
     "execution_count": 62,
     "metadata": {},
     "output_type": "execute_result"
    }
   ],
   "source": [
    "df.dtypes"
   ]
  }
 ],
 "metadata": {
  "kernelspec": {
   "display_name": "Python 3",
   "language": "python",
   "name": "python3"
  },
  "language_info": {
   "codemirror_mode": {
    "name": "ipython",
    "version": 3
   },
   "file_extension": ".py",
   "mimetype": "text/x-python",
   "name": "python",
   "nbconvert_exporter": "python",
   "pygments_lexer": "ipython3",
   "version": "3.12.1"
  }
 },
 "nbformat": 4,
 "nbformat_minor": 2
}
