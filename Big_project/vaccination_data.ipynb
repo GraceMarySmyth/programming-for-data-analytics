{
 "cells": [
  {
   "cell_type": "markdown",
   "metadata": {},
   "source": [
    "### Vaccination Data"
   ]
  },
  {
   "cell_type": "markdown",
   "metadata": {},
   "source": [
    "My background is General Nursing, Childrens Nursing, Midwifery and lactation Consultancy. Because of this I choose for this assignment to look at an analyse the vaccination rates in Ireland."
   ]
  },
  {
   "cell_type": "markdown",
   "metadata": {},
   "source": [
    "Importing libraries"
   ]
  },
  {
   "cell_type": "code",
   "execution_count": 2,
   "metadata": {},
   "outputs": [],
   "source": [
    "import os\n",
    "import pandas as pd     \n",
    "import numpy as np\n",
    "import matplotlib.pyplot as plt\n",
    "import seaborn as sns\n",
    "import datetime"
   ]
  },
  {
   "cell_type": "markdown",
   "metadata": {},
   "source": [
    "import the data"
   ]
  },
  {
   "cell_type": "code",
   "execution_count": 12,
   "metadata": {},
   "outputs": [],
   "source": [
    "data = pd.read_csv('https://ws.cso.ie/public/api.jsonrpc', delimiter=',', on_bad_lines='skip', low_memory=False)"
   ]
  },
  {
   "cell_type": "markdown",
   "metadata": {},
   "source": [
    "Convert into a pandas dataframe"
   ]
  },
  {
   "cell_type": "code",
   "execution_count": 8,
   "metadata": {},
   "outputs": [],
   "source": [
    "df = pd.DataFrame(data)"
   ]
  },
  {
   "cell_type": "markdown",
   "metadata": {},
   "source": [
    "Checking the data"
   ]
  },
  {
   "cell_type": "code",
   "execution_count": 13,
   "metadata": {},
   "outputs": [
    {
     "name": "stdout",
     "output_type": "stream",
     "text": [
      "Empty DataFrame\n",
      "Columns: [{\"jsonrpc\":\"2.0\", error:{\"code\":-32700, message:\"Parse error\", data:null}, id:null}]\n",
      "Index: []\n"
     ]
    }
   ],
   "source": [
    "print(df.head())"
   ]
  },
  {
   "cell_type": "code",
   "execution_count": 6,
   "metadata": {},
   "outputs": [
    {
     "name": "stdout",
     "output_type": "stream",
     "text": [
      "Empty DataFrame\n",
      "Columns: [{\"jsonrpc\":\"2.0\", result:{\"class\":\"dataset\", dimension:{\"STATISTIC\":{\"category\":{\"index\":[\"SCA40\"], label:{\"SCA40\":\"Immunisation uptake rates\"}, unit:{\"SCA40\":{\"decimals\":1, label:\"%\", position:\"end\"}}}, label:\"Statistic\"}, TLIST(A1):{\"category\":{\"index\":[\"2016\", 2017, 2018, 2019, 2020, 2021, 2022, 2023], label:{\"2016\":\"2016\", 2017:\"2017\", 2018:\"2018\", 2019:\"2019\", 2020:\"2020\", 2021:\"2021\", 2022:\"2022\", 2023:\"2023\"}}, label:\"Year\"}, C02077V02509:{\"category\":{\"index\":[\"37\", 38, 39], label:{\"37\":\"12 months\", 38:\"24 months\", 39:\"24 months and under\"}}, label:\"Age of Infant\"}, C03496V04223:{\"category\":{\"index\":[\"501\", 101, 102, 103, 104, 105, 106, 201, 202, 203, 204, 205, 206, 207, 208, 209, 301, 302, 303, 304, 305, 306, 307, 309, 310, 401, 402, 403, 404, 405, 406, 407, 408], label:{\"501\":\"All Local Health Offices\", 101:\"Cavan/Monaghan\", 102:\"Dublin North\", 103:\"Dublin North Central\", 104:\"Dublin North West\", 105:\"Louth\", 106:\"Meath\", 201:\"Dún Laoghaire\", 202:\"Dublin South City\", 203:\"Dublin South East\", 204:\"Dublin South West\", 205:\"Dublin West\", 206:\"Kildare/West Wicklow\", 207:\"Laois/Offaly\", 208:\"Longford/Westmeath\", 209:\"Wicklow\", 301:\"Carlow/Kilkenny\", 302:\"Kerry\", 303:\"North Cork\", 304:\"North Lee\", 305:\"South Lee\", 306:\"South Tipperary\", 307:\"Waterford\", 309:\"West Cork\", 310:\"Wexford\", 401:\"Clare\", 402:\"Donegal\", 403:\"Galway\", 404:\"Limerick\", 405:\"Mayo\", 406:\"Roscommon\", 407:\"Sligo/Leitrim\", 408:\"North Tipperary/East Limerick\"}}, label:\"Local Health Office\"}, C03491V04219:{\"category\":{\"index\":[\"140\"], ...]\n",
      "Index: []\n",
      "\n",
      "[0 rows x 967 columns]\n"
     ]
    }
   ],
   "source": [
    "print(df.tail())"
   ]
  }
 ],
 "metadata": {
  "kernelspec": {
   "display_name": "Python 3",
   "language": "python",
   "name": "python3"
  },
  "language_info": {
   "codemirror_mode": {
    "name": "ipython",
    "version": 3
   },
   "file_extension": ".py",
   "mimetype": "text/x-python",
   "name": "python",
   "nbconvert_exporter": "python",
   "pygments_lexer": "ipython3",
   "version": "3.12.1"
  }
 },
 "nbformat": 4,
 "nbformat_minor": 2
}
