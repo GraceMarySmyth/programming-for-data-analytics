{
 "cells": [
  {
   "cell_type": "markdown",
   "metadata": {},
   "source": [
    "### Vaccination Data"
   ]
  },
  {
   "cell_type": "markdown",
   "metadata": {},
   "source": [
    "My background is General Nursing, Childrens Nursing, Midwifery and lactation Consultancy. Because of this I choose for this assignment to look at an analyse the vaccination rates in Ireland."
   ]
  },
  {
   "cell_type": "markdown",
   "metadata": {},
   "source": [
    "Importing libraries"
   ]
  },
  {
   "cell_type": "code",
   "execution_count": 61,
   "metadata": {},
   "outputs": [],
   "source": [
    "import os\n",
    "import requests\n",
    "import pandas as pd     \n",
    "import numpy as np\n",
    "import matplotlib.pyplot as plt\n",
    "import seaborn as sns\n",
    "import datetime"
   ]
  },
  {
   "cell_type": "markdown",
   "metadata": {},
   "source": [
    "import the data"
   ]
  },
  {
   "cell_type": "code",
   "execution_count": 62,
   "metadata": {},
   "outputs": [],
   "source": [
    "url = \"https://ws.cso.ie/public/api.jsonrpc?data=%7B%22jsonrpc%22:%222.0%22,%22method%22:%22PxStat.Data.Cube_API.ReadDataset%22,%22params%22:%7B%22class%22:%22query%22,%22id%22:%5B%5D,%22dimension%22:%7B%7D,%22extension%22:%7B%22pivot%22:%22C03491V04219%22,%22codes%22:false,%22language%22:%7B%22code%22:%22en%22%7D,%22format%22:%7B%22type%22:%22CSV%22,%22version%22:%221.0%22%7D,%22matrix%22:%22SCA40%22%7D,%22version%22:%222.0%22%7D%7D\"\n",
    "\n",
    "response = requests.get(url)\n",
    "data = response.json()"
   ]
  },
  {
   "cell_type": "markdown",
   "metadata": {},
   "source": [
    "Convert into a pandas dataframe"
   ]
  },
  {
   "cell_type": "code",
   "execution_count": 63,
   "metadata": {},
   "outputs": [],
   "source": [
    "from io import StringIO\n",
    "\n",
    "# Convert the CSV string to a DataFrame\n",
    "csv_data = StringIO(data['result'])\n",
    "df = pd.read_csv(csv_data)"
   ]
  },
  {
   "cell_type": "markdown",
   "metadata": {},
   "source": [
    "Checking the data"
   ]
  },
  {
   "cell_type": "code",
   "execution_count": 64,
   "metadata": {},
   "outputs": [
    {
     "name": "stdout",
     "output_type": "stream",
     "text": [
      "                   Statistic  Year Age of Infant       Local Health Office  \\\n",
      "0  Immunisation uptake rates  2016     12 months  All Local Health Offices   \n",
      "1  Immunisation uptake rates  2016     12 months            Cavan/Monaghan   \n",
      "2  Immunisation uptake rates  2016     12 months              Dublin North   \n",
      "3  Immunisation uptake rates  2016     12 months      Dublin North Central   \n",
      "4  Immunisation uptake rates  2016     12 months         Dublin North West   \n",
      "\n",
      "  UNIT    D3  MenCb  PCV3  PCVb  MMR1  ...    P3    T3  Hib3  Hibb  Hib4  \\\n",
      "0    %  91.0    NaN   NaN   NaN   NaN  ...  91.0  91.0  91.0   NaN   NaN   \n",
      "1    %  92.0    NaN   NaN   NaN   NaN  ...  92.0  92.0  92.0   NaN   NaN   \n",
      "2    %  88.0    NaN   NaN   NaN   NaN  ...  88.0  88.0  88.0   NaN   NaN   \n",
      "3    %  88.0    NaN   NaN   NaN   NaN  ...  88.0  88.0  88.0   NaN   NaN   \n",
      "4    %  89.0    NaN   NaN   NaN   NaN  ...  89.0  89.0  89.0   NaN   NaN   \n",
      "\n",
      "   Polio3  HepB3  MenC2  PCV2  MenC3  \n",
      "0    91.0   91.0   89.0  91.0    NaN  \n",
      "1    92.0   92.0    NaN   NaN    NaN  \n",
      "2    88.0   88.0    NaN   NaN    NaN  \n",
      "3    88.0   88.0    NaN   NaN    NaN  \n",
      "4    89.0   89.0    NaN   NaN    NaN  \n",
      "\n",
      "[5 rows x 26 columns]\n"
     ]
    }
   ],
   "source": [
    "print(df.head())"
   ]
  },
  {
   "cell_type": "code",
   "execution_count": 65,
   "metadata": {},
   "outputs": [
    {
     "name": "stdout",
     "output_type": "stream",
     "text": [
      "                     Statistic  Year        Age of Infant  \\\n",
      "787  Immunisation uptake rates  2023  24 months and under   \n",
      "788  Immunisation uptake rates  2023  24 months and under   \n",
      "789  Immunisation uptake rates  2023  24 months and under   \n",
      "790  Immunisation uptake rates  2023  24 months and under   \n",
      "791  Immunisation uptake rates  2023  24 months and under   \n",
      "\n",
      "               Local Health Office UNIT  D3  MenCb  PCV3  PCVb  MMR1  ...  P3  \\\n",
      "787                       Limerick    % NaN    NaN   NaN   NaN   NaN  ... NaN   \n",
      "788                           Mayo    % NaN    NaN   NaN   NaN   NaN  ... NaN   \n",
      "789                      Roscommon    % NaN    NaN   NaN   NaN   NaN  ... NaN   \n",
      "790                  Sligo/Leitrim    % NaN    NaN   NaN   NaN   NaN  ... NaN   \n",
      "791  North Tipperary/East Limerick    % NaN    NaN   NaN   NaN   NaN  ... NaN   \n",
      "\n",
      "     T3  Hib3  Hibb  Hib4  Polio3  HepB3  MenC2  PCV2  MenC3  \n",
      "787 NaN   NaN   NaN   NaN     NaN    NaN    NaN   NaN    NaN  \n",
      "788 NaN   NaN   NaN   NaN     NaN    NaN    NaN   NaN    NaN  \n",
      "789 NaN   NaN   NaN   NaN     NaN    NaN    NaN   NaN    NaN  \n",
      "790 NaN   NaN   NaN   NaN     NaN    NaN    NaN   NaN    NaN  \n",
      "791 NaN   NaN   NaN   NaN     NaN    NaN    NaN   NaN    NaN  \n",
      "\n",
      "[5 rows x 26 columns]\n"
     ]
    }
   ],
   "source": [
    "print(df.tail())"
   ]
  },
  {
   "cell_type": "code",
   "execution_count": 66,
   "metadata": {},
   "outputs": [],
   "source": [
    "df.to_csv('cso_data.csv', index=False)  # Save the data to a csv file"
   ]
  },
  {
   "cell_type": "code",
   "execution_count": 67,
   "metadata": {},
   "outputs": [],
   "source": [
    "df = pd.read_csv('cso_data.csv')    "
   ]
  },
  {
   "cell_type": "code",
   "execution_count": 68,
   "metadata": {},
   "outputs": [],
   "source": [
    "df.dropna(inplace=True)  # Drop any rows with missing data "
   ]
  },
  {
   "cell_type": "markdown",
   "metadata": {},
   "source": [
    "Summary informantion"
   ]
  },
  {
   "cell_type": "code",
   "execution_count": 69,
   "metadata": {},
   "outputs": [
    {
     "name": "stdout",
     "output_type": "stream",
     "text": [
      "<class 'pandas.core.frame.DataFrame'>\n",
      "Index: 0 entries\n",
      "Data columns (total 26 columns):\n",
      " #   Column               Non-Null Count  Dtype  \n",
      "---  ------               --------------  -----  \n",
      " 0   Statistic            0 non-null      object \n",
      " 1   Year                 0 non-null      int64  \n",
      " 2   Age of Infant        0 non-null      object \n",
      " 3   Local Health Office  0 non-null      object \n",
      " 4   UNIT                 0 non-null      object \n",
      " 5   D3                   0 non-null      float64\n",
      " 6   MenCb                0 non-null      float64\n",
      " 7   PCV3                 0 non-null      float64\n",
      " 8   PCVb                 0 non-null      float64\n",
      " 9   MMR1                 0 non-null      float64\n",
      " 10  BCG                  0 non-null      float64\n",
      " 11  MenB complete        0 non-null      float64\n",
      " 12  MenB2                0 non-null      float64\n",
      " 13  MenB3                0 non-null      float64\n",
      " 14  MenC1                0 non-null      float64\n",
      " 15  Rota2                0 non-null      float64\n",
      " 16  P3                   0 non-null      float64\n",
      " 17  T3                   0 non-null      float64\n",
      " 18  Hib3                 0 non-null      float64\n",
      " 19  Hibb                 0 non-null      float64\n",
      " 20  Hib4                 0 non-null      float64\n",
      " 21  Polio3               0 non-null      float64\n",
      " 22  HepB3                0 non-null      float64\n",
      " 23  MenC2                0 non-null      float64\n",
      " 24  PCV2                 0 non-null      float64\n",
      " 25  MenC3                0 non-null      float64\n",
      "dtypes: float64(21), int64(1), object(4)\n",
      "memory usage: 0.0+ bytes\n"
     ]
    }
   ],
   "source": [
    "df.info()"
   ]
  },
  {
   "cell_type": "markdown",
   "metadata": {},
   "source": [
    "Print the column names. This is useful when extracting the data to know what each column name is"
   ]
  },
  {
   "cell_type": "code",
   "execution_count": 70,
   "metadata": {},
   "outputs": [
    {
     "name": "stdout",
     "output_type": "stream",
     "text": [
      "Index(['Statistic', 'Year', 'Age of Infant', 'Local Health Office', 'UNIT',\n",
      "       'D3', 'MenCb', 'PCV3', 'PCVb', 'MMR1', 'BCG', 'MenB complete', 'MenB2',\n",
      "       'MenB3', 'MenC1', 'Rota2', 'P3', 'T3', 'Hib3', 'Hibb', 'Hib4', 'Polio3',\n",
      "       'HepB3', 'MenC2', 'PCV2', 'MenC3'],\n",
      "      dtype='object')\n"
     ]
    }
   ],
   "source": [
    "print(df.columns)"
   ]
  },
  {
   "cell_type": "code",
   "execution_count": 71,
   "metadata": {},
   "outputs": [
    {
     "name": "stdout",
     "output_type": "stream",
     "text": [
      "       Year   D3  MenCb  PCV3  PCVb  MMR1  BCG  MenB complete  MenB2  MenB3  \\\n",
      "count   0.0  0.0    0.0   0.0   0.0   0.0  0.0            0.0    0.0    0.0   \n",
      "mean    NaN  NaN    NaN   NaN   NaN   NaN  NaN            NaN    NaN    NaN   \n",
      "std     NaN  NaN    NaN   NaN   NaN   NaN  NaN            NaN    NaN    NaN   \n",
      "min     NaN  NaN    NaN   NaN   NaN   NaN  NaN            NaN    NaN    NaN   \n",
      "25%     NaN  NaN    NaN   NaN   NaN   NaN  NaN            NaN    NaN    NaN   \n",
      "50%     NaN  NaN    NaN   NaN   NaN   NaN  NaN            NaN    NaN    NaN   \n",
      "75%     NaN  NaN    NaN   NaN   NaN   NaN  NaN            NaN    NaN    NaN   \n",
      "max     NaN  NaN    NaN   NaN   NaN   NaN  NaN            NaN    NaN    NaN   \n",
      "\n",
      "       ...   P3   T3  Hib3  Hibb  Hib4  Polio3  HepB3  MenC2  PCV2  MenC3  \n",
      "count  ...  0.0  0.0   0.0   0.0   0.0     0.0    0.0    0.0   0.0    0.0  \n",
      "mean   ...  NaN  NaN   NaN   NaN   NaN     NaN    NaN    NaN   NaN    NaN  \n",
      "std    ...  NaN  NaN   NaN   NaN   NaN     NaN    NaN    NaN   NaN    NaN  \n",
      "min    ...  NaN  NaN   NaN   NaN   NaN     NaN    NaN    NaN   NaN    NaN  \n",
      "25%    ...  NaN  NaN   NaN   NaN   NaN     NaN    NaN    NaN   NaN    NaN  \n",
      "50%    ...  NaN  NaN   NaN   NaN   NaN     NaN    NaN    NaN   NaN    NaN  \n",
      "75%    ...  NaN  NaN   NaN   NaN   NaN     NaN    NaN    NaN   NaN    NaN  \n",
      "max    ...  NaN  NaN   NaN   NaN   NaN     NaN    NaN    NaN   NaN    NaN  \n",
      "\n",
      "[8 rows x 22 columns]\n"
     ]
    }
   ],
   "source": [
    "print(df.describe())"
   ]
  },
  {
   "cell_type": "code",
   "execution_count": 72,
   "metadata": {},
   "outputs": [
    {
     "name": "stdout",
     "output_type": "stream",
     "text": [
      "Series([], Name: Year, dtype: int64)\n"
     ]
    }
   ],
   "source": [
    "print(df['Year'].head())"
   ]
  },
  {
   "cell_type": "code",
   "execution_count": 73,
   "metadata": {},
   "outputs": [],
   "source": [
    "vaccination_data = df.groupby('Year')['MenB complete'].sum()"
   ]
  },
  {
   "cell_type": "code",
   "execution_count": 74,
   "metadata": {},
   "outputs": [
    {
     "name": "stdout",
     "output_type": "stream",
     "text": [
      "Series([], Name: MenB complete, dtype: float64)\n"
     ]
    }
   ],
   "source": [
    "print (vaccination_data)\n"
   ]
  },
  {
   "cell_type": "code",
   "execution_count": 75,
   "metadata": {},
   "outputs": [],
   "source": [
    "df['Year'] = pd.to_datetime(df['Year'], format='%Y')"
   ]
  },
  {
   "cell_type": "code",
   "execution_count": 76,
   "metadata": {},
   "outputs": [],
   "source": [
    "df['MenB complete'] = pd.to_numeric(df['MenB complete'])"
   ]
  },
  {
   "cell_type": "code",
   "execution_count": 77,
   "metadata": {},
   "outputs": [
    {
     "name": "stdout",
     "output_type": "stream",
     "text": [
      "Series([], Name: MenB complete, dtype: float64)\n"
     ]
    }
   ],
   "source": [
    "df['year'] = pd.DatetimeIndex(df['Year']).year\n",
    "mean_vaccination_per_year = df.groupby('Year')['MenB complete'].mean()\n",
    "print(mean_vaccination_per_year)"
   ]
  },
  {
   "cell_type": "markdown",
   "metadata": {},
   "source": [
    "Ensuring the data is correctly loaded and processed"
   ]
  },
  {
   "cell_type": "code",
   "execution_count": 78,
   "metadata": {},
   "outputs": [
    {
     "name": "stdout",
     "output_type": "stream",
     "text": [
      "No data available to plot.\n"
     ]
    }
   ],
   "source": [
    "if not mean_vaccination_per_year.empty:\n",
    "\tplt.figure(figsize=(10, 7))\n",
    "\tplt.pie(mean_vaccination_per_year, labels=mean_vaccination_per_year.index, autopct='%1.1f%%', startangle=140)\n",
    "\tplt.title('Mean vaccinations per Year', fontdict={'fontweight': 'bold', 'fontsize': 22})\n",
    "\tplt.axis('equal')\n",
    "\tplt.show()\n",
    "else:\n",
    "\tprint(\"No data available to plot.\")"
   ]
  },
  {
   "cell_type": "code",
   "execution_count": null,
   "metadata": {},
   "outputs": [],
   "source": []
  }
 ],
 "metadata": {
  "kernelspec": {
   "display_name": "Python 3",
   "language": "python",
   "name": "python3"
  },
  "language_info": {
   "codemirror_mode": {
    "name": "ipython",
    "version": 3
   },
   "file_extension": ".py",
   "mimetype": "text/x-python",
   "name": "python",
   "nbconvert_exporter": "python",
   "pygments_lexer": "ipython3",
   "version": "3.12.1"
  }
 },
 "nbformat": 4,
 "nbformat_minor": 2
}
