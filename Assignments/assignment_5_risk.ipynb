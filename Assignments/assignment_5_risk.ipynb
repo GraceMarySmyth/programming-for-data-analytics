{
 "cells": [
  {
   "cell_type": "markdown",
   "metadata": {},
   "source": [
    "### Assignment 5 Risk\n",
    "\n",
    "Note: There was no assignment 4!! \n",
    "\n",
    "## Author: \n",
    "Grace Mary Smyth.\n",
    "\n",
    "## Lecturer:\n",
    "Andrew Beatty."
   ]
  },
  {
   "cell_type": "markdown",
   "metadata": {},
   "source": [
    "As per the guidlines for the assignemnt: The program should simulates 1000 individual battle rounds in Risk (3 attacker vs 2 defender) and plots the result.\n",
    "\n",
    "One battle round is one shake of the attacker and defender dice."
   ]
  },
  {
   "cell_type": "markdown",
   "metadata": {},
   "source": [
    "## overview of risk:\n",
    "\n",
    "RISK is the game of \"global domination\". The objective of the game is to attack and capture enemy territories in order to wipe out the opponent and become the ruler of the world.\n",
    "\n",
    "This game is played on a board that is divided up into 42 territories and each player is given multiple tokens where each token represents one army. The number of armies is determined at the beginning of each turn and is based on the number of territories that the player occupies.\n",
    "\n",
    "In order to win the game, a player must conquer all the territories. On each turn, a player can attack adjoining territories controlled opponents. The attacker must have at least two armies in order to attack because at least one army remains in the currently occupied territory and one army can attack the defending army.\n",
    "\n",
    "An attacker may choose to withdraw from the war at any time but if they remain in battle until the end, there are two possible outcomes:\n",
    "\n",
    "The defending army will be destroyed and the attacker will now have a new territory in its possession.\n",
    "The attacker will only have one army left and will be unable to engage in battle, resulting in a failure to conquer the territory.\n",
    "\n",
    "In order to determine if a battle is won or lost by the attacking army, both players roll dice. The number of dice depends on the number of armies the player has.\n",
    "\n",
    "If the defender has one army, one die is rolled but if the defender has two or more armies then two dice may be rolled. An attacker rolls either one, two, or three dice depending on the number of armies he/she has. The attacker must have at least one more army in the territory than the number of dice to be rolled.\n",
    "\n",
    "For example, if an attacker has three armies, he/she can roll a maximum of two dice.\n",
    "\n",
    "A player does have the option of rolling less than their maximum number of dice allotted. This would decrease the potential number of armies lost but would reduce the odds of winning.\n",
    "\n",
    "Once the dice are rolled, they are placed in descending order. The attacker's highest die is then compared to the defender's highest and if each player has at least two dice then the second largest for both sides is compared.\n",
    "\n",
    "The attacker loses one army for every die in the compared pairs that is less than or equal to the defender's die and the defender loses one army for every compared die that is less than the attacker's die.\n",
    "\n",
    "Armies are removed from the board when they are lost and the dice are rolled again until one side can no longer engage in battle. Throughout the course of a single battle, armies are lost and can never be gained.\n",
    "\n",
    "Risk can be played with 2 - 6 players and the average duration of a game is between 60 and 120 minutes.\n",
    "\n",
    "The game was first published in 1959 by Parker Brothers and currently by Hasbro. The game was created by Albert Lamorisse. For more information check here the history of Risk.\n",
    "\n",
    "\n",
    "https://www.ultraboardgames.com/risk/index.php\n",
    "\n"
   ]
  },
  {
   "cell_type": "markdown",
   "metadata": {},
   "source": [
    "Import numpy and matplotlib. This will allow us to manipulate the data. "
   ]
  },
  {
   "cell_type": "code",
   "execution_count": 2,
   "metadata": {},
   "outputs": [],
   "source": [
    "import numpy as np\n",
    "import matplotlib.pyplot as plt"
   ]
  },
  {
   "cell_type": "markdown",
   "metadata": {},
   "source": [
    "As this is a board game that is run using a dice we have to throw the dice to get a randomly generated number between. This is run on the assumption that a standard dice is used."
   ]
  },
  {
   "cell_type": "code",
   "execution_count": 4,
   "metadata": {},
   "outputs": [
    {
     "name": "stdout",
     "output_type": "stream",
     "text": [
      "[6 1 5 3 3 5 3 3 1 1]\n"
     ]
    }
   ],
   "source": [
    "def roll_dice(n):\n",
    "    return np.random.randint(1, 7, n)[::-1]\n",
    "print(roll_dice(10))"
   ]
  },
  {
   "cell_type": "markdown",
   "metadata": {},
   "source": [
    "Defining simulate battle "
   ]
  },
  {
   "cell_type": "code",
   "execution_count": 13,
   "metadata": {},
   "outputs": [
    {
     "name": "stdout",
     "output_type": "stream",
     "text": [
      "(0, 0)\n"
     ]
    }
   ],
   "source": [
    "def simulate_battle():\n",
    "    attacker_wins = 0\n",
    "    defender_wins = 0\n",
    "    for i in range(1000):\n",
    "        attacker_dice = roll_dice(3)[-2:]\n",
    "        defender_dice = roll_dice(2)[-2:]\n",
    "    return attacker_wins, defender_wins\n",
    "\n",
    "print(simulate_battle())  "
   ]
  },
  {
   "cell_type": "markdown",
   "metadata": {},
   "source": []
  },
  {
   "cell_type": "code",
   "execution_count": null,
   "metadata": {},
   "outputs": [
    {
     "ename": "NameError",
     "evalue": "name 'attacker_dice' is not defined",
     "output_type": "error",
     "traceback": [
      "\u001b[0;31m---------------------------------------------------------------------------\u001b[0m",
      "\u001b[0;31mNameError\u001b[0m                                 Traceback (most recent call last)",
      "Cell \u001b[0;32mIn[16], line 1\u001b[0m\n\u001b[0;32m----> 1\u001b[0m \u001b[38;5;28;01mfor\u001b[39;00m a, d \u001b[38;5;129;01min\u001b[39;00m \u001b[38;5;28mzip\u001b[39m(\u001b[43mattacker_dice\u001b[49m, defender_dice):\n\u001b[1;32m      2\u001b[0m         \u001b[38;5;28;01mif\u001b[39;00m a \u001b[38;5;241m>\u001b[39m d:\n\u001b[1;32m      3\u001b[0m             defender_wins \u001b[38;5;241m+\u001b[39m\u001b[38;5;241m=\u001b[39m \u001b[38;5;241m1\u001b[39m\n",
      "\u001b[0;31mNameError\u001b[0m: name 'attacker_dice' is not defined"
     ]
    }
   ],
   "source": [
    "    for a, d in zip(attacker_dice, defender_dice):\n",
    "            if a > d:\n",
    "                defender_wins += 1\n",
    "            else:\n",
    "                attacker_wins += 1\n",
    "\n",
    "    return attacker_wins, defender_wins"
   ]
  },
  {
   "cell_type": "markdown",
   "metadata": {},
   "source": [
    "## References\n",
    "\n",
    "https://www.ultraboardgames.com/risk/index.php\n"
   ]
  },
  {
   "cell_type": "markdown",
   "metadata": {},
   "source": []
  }
 ],
 "metadata": {
  "kernelspec": {
   "display_name": "Python 3",
   "language": "python",
   "name": "python3"
  },
  "language_info": {
   "codemirror_mode": {
    "name": "ipython",
    "version": 3
   },
   "file_extension": ".py",
   "mimetype": "text/x-python",
   "name": "python",
   "nbconvert_exporter": "python",
   "pygments_lexer": "ipython3",
   "version": "3.12.1"
  }
 },
 "nbformat": 4,
 "nbformat_minor": 2
}
